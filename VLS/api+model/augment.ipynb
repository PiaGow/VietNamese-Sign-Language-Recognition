{
 "cells": [
  {
   "cell_type": "code",
   "id": "initial_id",
   "metadata": {
    "collapsed": true,
    "ExecuteTime": {
     "end_time": "2024-12-11T14:14:00.662019Z",
     "start_time": "2024-12-11T14:11:57.304336Z"
    }
   },
   "source": [
    "import cv2\n",
    "import mediapipe as mp\n",
    "import numpy as np\n",
    "import os\n",
    "from tqdm import tqdm\n",
    "\n",
    "# Khởi tạo MediaPipe Holistic\n",
    "mp_holistic = mp.solutions.holistic\n",
    "\n",
    "# Hàm trích xuất landmarks từ một khung hình\n",
    "def extract_landmarks(image, holistic_model):\n",
    "    results = holistic_model.process(cv2.cvtColor(image, cv2.COLOR_BGR2RGB))\n",
    "\n",
    "    # Pose landmarks (chỉ lấy x, y, z)\n",
    "    pose_landmarks = [\n",
    "        [lm.x, lm.y, lm.z]\n",
    "        for lm in results.pose_landmarks.landmark\n",
    "    ] if results.pose_landmarks else [[0, 0, 0]] * 33\n",
    "\n",
    "    # Face landmarks\n",
    "    face_landmarks = [\n",
    "        [lm.x, lm.y, lm.z]\n",
    "        for lm in results.face_landmarks.landmark\n",
    "    ] if results.face_landmarks else [[0, 0, 0]] * 468\n",
    "\n",
    "    # Combine tất cả landmarks\n",
    "    combined_landmarks = np.concatenate((pose_landmarks, face_landmarks), axis=0)\n",
    "    return combined_landmarks\n",
    "\n",
    "# Hàm trích xuất landmarks từ video\n",
    "def extract_landmarks_from_video(video_path, holistic_model):\n",
    "    cap = cv2.VideoCapture(video_path)\n",
    "    landmarks_data = []\n",
    "    while cap.isOpened():\n",
    "        ret, frame = cap.read()\n",
    "        if not ret:\n",
    "            break\n",
    "        landmarks = extract_landmarks(frame, holistic_model)\n",
    "        landmarks_data.append(landmarks)\n",
    "    cap.release()\n",
    "    return np.array(landmarks_data)\n",
    "\n",
    "# 1. Thêm nhiễu Gaussian\n",
    "def add_gaussian_noise(landmarks, std_dev=0.01):\n",
    "    noise = np.random.normal(0, std_dev, landmarks.shape)\n",
    "    return landmarks + noise\n",
    "\n",
    "# 2. Dịch chuyển khung hình (Translation)\n",
    "def apply_translation(landmarks, max_translation=0.02):\n",
    "    translation = np.random.uniform(-max_translation, max_translation, size=(1, landmarks.shape[1]))\n",
    "    return landmarks + translation\n",
    "\n",
    "# 3. Thay đổi tỉ lệ khung hình (Scaling)\n",
    "def apply_scaling(landmarks, scale_range=(0.9, 1.1)):\n",
    "    scale_factor = np.random.uniform(scale_range[0], scale_range[1])\n",
    "    return landmarks * scale_factor\n",
    "\n",
    "# 4. Lật khung hình theo trục Y (Horizontal flip)\n",
    "def apply_horizontal_flip(landmarks):\n",
    "    landmarks[:, 0] = 1 - landmarks[:, 0]  # Đảo ngược trục X\n",
    "    return landmarks\n",
    "\n",
    "# 5. Nhiễu ngẫu nhiên tổng hợp\n",
    "def apply_random_noise(landmarks):\n",
    "    noise = np.random.uniform(-0.02, 0.02, landmarks.shape)\n",
    "    return landmarks + noise\n",
    "\n",
    "# Hàm áp dụng tất cả augmentation\n",
    "def apply_all_augmentations(landmarks):\n",
    "    augmentations = [\n",
    "        add_gaussian_noise,\n",
    "        apply_scaling,\n",
    "        apply_horizontal_flip,\n",
    "        apply_random_noise,\n",
    "    ]\n",
    "    augmented_data = [aug(landmarks) for aug in augmentations]\n",
    "    return augmented_data\n",
    "\n",
    "# Hàm xử lý toàn bộ thư mục và lưu dữ liệu\n",
    "def process_directory(data_dir, output_file):\n",
    "    holistic_model = mp_holistic.Holistic(static_image_mode=False, min_detection_confidence=0.5, min_tracking_confidence=0.5)\n",
    "    all_sequences = []\n",
    "    all_labels = []\n",
    "\n",
    "    label_map = {action: idx for idx, action in enumerate(sorted(os.listdir(data_dir)))}\n",
    "\n",
    "    for action in sorted(os.listdir(data_dir)):\n",
    "        action_dir = os.path.join(data_dir, action)\n",
    "        if not os.path.isdir(action_dir):\n",
    "            continue\n",
    "\n",
    "        print(f\"Processing action: {action}\")\n",
    "        label = label_map[action]\n",
    "\n",
    "        for video_file in tqdm(os.listdir(action_dir)):\n",
    "            video_path = os.path.join(action_dir, video_file)\n",
    "            if not video_file.endswith((\".mp4\", \".avi\")):\n",
    "                continue\n",
    "\n",
    "            # Trích xuất landmarks\n",
    "            landmarks = extract_landmarks_from_video(video_path, holistic_model)\n",
    "            if landmarks.size == 0:\n",
    "                continue\n",
    "\n",
    "            # Lưu landmarks gốc\n",
    "            all_sequences.append(landmarks)\n",
    "            all_labels.append(label)\n",
    "\n",
    "            # Lưu augmented landmarks\n",
    "            augmented_landmarks = apply_all_augmentations(landmarks)\n",
    "            for aug_lm in augmented_landmarks:\n",
    "                all_sequences.append(aug_lm)\n",
    "                all_labels.append(label)\n",
    "\n",
    "    holistic_model.close()\n",
    "\n",
    "    # Chuyển đổi sang numpy arrays\n",
    "    all_sequences = np.array(all_sequences, dtype=object)  # Dữ liệu dạng chuỗi thời gian\n",
    "    all_labels = np.array(all_labels)\n",
    "\n",
    "    # Lưu vào file .npz\n",
    "    np.savez_compressed(output_file, sequences=all_sequences, labels=all_labels)\n",
    "\n",
    "input_dir = \"videos\"\n",
    "output_file = \"lstm_train_data_v2.npz\"\n",
    "\n",
    "# Gọi hàm xử lý\n",
    "process_directory(input_dir, output_file)\n"
   ],
   "outputs": [
    {
     "name": "stdout",
     "output_type": "stream",
     "text": [
      "Processing action: aicho\n"
     ]
    },
    {
     "name": "stderr",
     "output_type": "stream",
     "text": [
      "100%|██████████| 3/3 [00:06<00:00,  2.19s/it]\n"
     ]
    },
    {
     "name": "stdout",
     "output_type": "stream",
     "text": [
      "Processing action: bome\n"
     ]
    },
    {
     "name": "stderr",
     "output_type": "stream",
     "text": [
      "100%|██████████| 3/3 [00:07<00:00,  2.59s/it]\n"
     ]
    },
    {
     "name": "stdout",
     "output_type": "stream",
     "text": [
      "Processing action: bunoc\n"
     ]
    },
    {
     "name": "stderr",
     "output_type": "stream",
     "text": [
      "100%|██████████| 3/3 [00:10<00:00,  3.41s/it]\n"
     ]
    },
    {
     "name": "stdout",
     "output_type": "stream",
     "text": [
      "Processing action: cogiao\n"
     ]
    },
    {
     "name": "stderr",
     "output_type": "stream",
     "text": [
      "100%|██████████| 3/3 [00:08<00:00,  2.71s/it]\n"
     ]
    },
    {
     "name": "stdout",
     "output_type": "stream",
     "text": [
      "Processing action: conde\n"
     ]
    },
    {
     "name": "stderr",
     "output_type": "stream",
     "text": [
      "100%|██████████| 3/3 [00:10<00:00,  3.58s/it]\n"
     ]
    },
    {
     "name": "stdout",
     "output_type": "stream",
     "text": [
      "Processing action: day\n"
     ]
    },
    {
     "name": "stderr",
     "output_type": "stream",
     "text": [
      "100%|██████████| 3/3 [00:08<00:00,  2.86s/it]\n"
     ]
    },
    {
     "name": "stdout",
     "output_type": "stream",
     "text": [
      "Processing action: hoctap\n"
     ]
    },
    {
     "name": "stderr",
     "output_type": "stream",
     "text": [
      "100%|██████████| 3/3 [00:08<00:00,  2.78s/it]\n"
     ]
    },
    {
     "name": "stdout",
     "output_type": "stream",
     "text": [
      "Processing action: hoctro\n"
     ]
    },
    {
     "name": "stderr",
     "output_type": "stream",
     "text": [
      "100%|██████████| 3/3 [00:10<00:00,  3.34s/it]\n"
     ]
    },
    {
     "name": "stdout",
     "output_type": "stream",
     "text": [
      "Processing action: luoi\n"
     ]
    },
    {
     "name": "stderr",
     "output_type": "stream",
     "text": [
      "100%|██████████| 3/3 [00:10<00:00,  3.39s/it]\n"
     ]
    },
    {
     "name": "stdout",
     "output_type": "stream",
     "text": [
      "Processing action: monTinhocvaCongnghe\n"
     ]
    },
    {
     "name": "stderr",
     "output_type": "stream",
     "text": [
      "100%|██████████| 3/3 [00:08<00:00,  2.97s/it]\n"
     ]
    },
    {
     "name": "stdout",
     "output_type": "stream",
     "text": [
      "Processing action: ngaycuaMe\n"
     ]
    },
    {
     "name": "stderr",
     "output_type": "stream",
     "text": [
      "100%|██████████| 3/3 [00:08<00:00,  2.83s/it]\n"
     ]
    },
    {
     "name": "stdout",
     "output_type": "stream",
     "text": [
      "Processing action: qua\n"
     ]
    },
    {
     "name": "stderr",
     "output_type": "stream",
     "text": [
      "100%|██████████| 3/3 [00:06<00:00,  2.20s/it]\n"
     ]
    },
    {
     "name": "stdout",
     "output_type": "stream",
     "text": [
      "Processing action: tugiac\n"
     ]
    },
    {
     "name": "stderr",
     "output_type": "stream",
     "text": [
      "100%|██████████| 3/3 [00:06<00:00,  2.21s/it]\n"
     ]
    }
   ],
   "execution_count": 1
  },
  {
   "metadata": {},
   "cell_type": "code",
   "outputs": [],
   "execution_count": null,
   "source": "",
   "id": "6519e7dde586e8d6"
  },
  {
   "metadata": {},
   "cell_type": "code",
   "outputs": [],
   "execution_count": null,
   "source": "",
   "id": "6513f24c36aa308a"
  }
 ],
 "metadata": {
  "kernelspec": {
   "display_name": "Python 3",
   "language": "python",
   "name": "python3"
  },
  "language_info": {
   "codemirror_mode": {
    "name": "ipython",
    "version": 2
   },
   "file_extension": ".py",
   "mimetype": "text/x-python",
   "name": "python",
   "nbconvert_exporter": "python",
   "pygments_lexer": "ipython2",
   "version": "2.7.6"
  }
 },
 "nbformat": 4,
 "nbformat_minor": 5
}
